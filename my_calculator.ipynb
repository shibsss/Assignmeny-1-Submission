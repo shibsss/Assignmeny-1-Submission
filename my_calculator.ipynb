{
  "nbformat": 4,
  "nbformat_minor": 0,
  "metadata": {
    "colab": {
      "name": "my calculator.ipynb",
      "provenance": [],
      "authorship_tag": "ABX9TyPM0MBUbNjEcdTACMFc0XyK",
      "include_colab_link": true
    },
    "kernelspec": {
      "name": "python3",
      "display_name": "Python 3"
    },
    "language_info": {
      "name": "python"
    }
  },
  "cells": [
    {
      "cell_type": "markdown",
      "metadata": {
        "id": "view-in-github",
        "colab_type": "text"
      },
      "source": [
        "<a href=\"https://colab.research.google.com/github/shibsss/Assignmeny-1-Submission/blob/main/my_calculator.ipynb\" target=\"_parent\"><img src=\"https://colab.research.google.com/assets/colab-badge.svg\" alt=\"Open In Colab\"/></a>"
      ]
    },
    {
      "cell_type": "code",
      "metadata": {
        "colab": {
          "base_uri": "https://localhost:8080/"
        },
        "id": "aQsfy6lHf9aa",
        "outputId": "c670d732-effe-4d13-d004-e476a46c2404"
      },
      "source": [
        "a=int(input(\"enter first number=\"))\n",
        "b=int(input(\"enter second number=\"))\n",
        "sum=a+b\n",
        "print(\"sum=\",sum)"
      ],
      "execution_count": null,
      "outputs": [
        {
          "output_type": "stream",
          "text": [
            "enter first number=30\n",
            "enter second number=100\n",
            "sum= 130\n"
          ],
          "name": "stdout"
        }
      ]
    },
    {
      "cell_type": "code",
      "metadata": {
        "id": "JyA7QabGkIDD"
      },
      "source": [
        "from google.colab import drive\n",
        "drive.mount('/content/drive')"
      ],
      "execution_count": null,
      "outputs": []
    },
    {
      "cell_type": "code",
      "metadata": {
        "colab": {
          "base_uri": "https://localhost:8080/"
        },
        "id": "r5-_LEZngaTR",
        "outputId": "b0ab43d2-1088-40aa-e273-00cf55a11637"
      },
      "source": [
        "a=int(input(\"enter first number=\"))\n",
        "b=int(input(\"enter second number=\"))\n",
        "sub=a-b\n",
        "print(\"sub=\",sub)"
      ],
      "execution_count": null,
      "outputs": [
        {
          "output_type": "stream",
          "text": [
            "enter first number=1000\n",
            "enter second number=649\n",
            "sub= 351\n"
          ],
          "name": "stdout"
        }
      ]
    },
    {
      "cell_type": "code",
      "metadata": {
        "colab": {
          "base_uri": "https://localhost:8080/"
        },
        "id": "m58S1Xtvg-nj",
        "outputId": "807767d4-939e-4ff5-eff0-2fb3c7d51356"
      },
      "source": [
        "a=int(input(\"enter first number=\"))\n",
        "b=int(input(\"enter second number=\"))\n",
        "multiplication=a*b\n",
        "print(\"multiplication=\",multiplication)"
      ],
      "execution_count": null,
      "outputs": [
        {
          "output_type": "stream",
          "text": [
            "enter first number=50\n",
            "enter second number=40\n",
            "multiplication= 2000\n"
          ],
          "name": "stdout"
        }
      ]
    },
    {
      "cell_type": "code",
      "metadata": {
        "colab": {
          "base_uri": "https://localhost:8080/"
        },
        "id": "iBEzmL-phj1A",
        "outputId": "e38aad4b-82ac-4aea-d14d-4a1c66c7364f"
      },
      "source": [
        "a=int(input(\"enter first number=\"))\n",
        "b=int(input(\"enter second number=\"))\n",
        "division=a/b\n",
        "print(\"division=\",division)"
      ],
      "execution_count": null,
      "outputs": [
        {
          "output_type": "stream",
          "text": [
            "enter first number=300\n",
            "enter second number=5\n",
            "division= 60.0\n"
          ],
          "name": "stdout"
        }
      ]
    },
    {
      "cell_type": "code",
      "metadata": {
        "id": "cMYhJ79Mihp7"
      },
      "source": [
        ""
      ],
      "execution_count": null,
      "outputs": []
    }
  ]
}